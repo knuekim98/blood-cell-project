{
 "cells": [
  {
   "cell_type": "code",
   "execution_count": null,
   "metadata": {},
   "outputs": [],
   "source": [
    "from google.colab import drive\n",
    "drive.mount('/content/gdrive')\n",
    "\n",
    "%cd /content/gdrive/MyDrive/"
   ]
  },
  {
   "cell_type": "code",
   "execution_count": null,
   "metadata": {},
   "outputs": [],
   "source": [
    "import torch\n",
    "import torch.nn as nn\n",
    "import torch.optim as optim\n",
    "from torch.utils.data import DataLoader\n",
    "from torchsummary import summary\n",
    "\n",
    "from read_dataset import CustomDataset\n",
    "from model import CNNmodel\n",
    "from train import train\n",
    "from eval import evaluation\n",
    "\n",
    "\n",
    "# model\n",
    "device = torch.device('cuda' if torch.cuda.is_available() else 'cpu')\n",
    "model = CNNmodel().to(device)\n",
    "summary(model, input_size=(3, 240, 320), batch_size=1)\n",
    "\n",
    "\n",
    "# hyperparameter\n",
    "batch_size = 64\n",
    "epoch = 10\n",
    "lr = 1e-4\n",
    "optimizer = optim.Adam(model.parameters(), lr=lr)\n",
    "#schedular = optim.lr_scheduler.LambdaLR(optimizer, lr_lambda=lambda epoch: 0.95**epoch)\n",
    "criterion = nn.CrossEntropyLoss()\n",
    "\n",
    "\n",
    "# train\n",
    "train_dataloader = DataLoader(CustomDataset(\"TRAIN\"), batch_size=batch_size, shuffle=True)\n",
    "print(\"Loading Data Complete\")\n",
    "\n",
    "model_trained = train(train_dataloader, model, epoch, optimizer, criterion, device)\n",
    "\n",
    "\n",
    "# eval\n",
    "evaluation(model=model_trained)"
   ]
  }
 ],
 "metadata": {
  "language_info": {
   "name": "python"
  }
 },
 "nbformat": 4,
 "nbformat_minor": 2
}
